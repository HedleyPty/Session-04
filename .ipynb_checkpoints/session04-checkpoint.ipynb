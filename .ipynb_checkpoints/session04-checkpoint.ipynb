{
 "cells": [
  {
   "cell_type": "code",
   "execution_count": 1,
   "id": "e02b611b-5a09-4fbb-8f6a-97ed082cbc1d",
   "metadata": {},
   "outputs": [
    {
     "name": "stdout",
     "output_type": "stream",
     "text": [
      "Hola mundo desde Notebook!\n"
     ]
    }
   ],
   "source": [
    "#Code 01\n",
    "print(\"Hola mundo desde Notebook!\")"
   ]
  },
  {
   "cell_type": "markdown",
   "id": "db9d21ca-dbee-42a7-adb4-f9e8ac5aadf1",
   "metadata": {},
   "source": [
    "print(\"   *\")\n",
    "print(\"  ***\")\n",
    "print(\" *****\")\n",
    "print(\"*******\")\n",
    "print(\"  | |\")"
   ]
  },
  {
   "cell_type": "markdown",
   "id": "5dbcbd15-f22c-4f17-a0fa-5b39bf54e090",
   "metadata": {},
   "source": [
    "# Sección 04\n",
    "- Mi primer notebook\n",
    "- Imprimir árbol\n",
    "- Crear markdown\n",
    "- Subir mi primer repositorio GitHub"
   ]
  },
  {
   "cell_type": "code",
   "execution_count": null,
   "id": "6278ba30-0d61-4b2e-917f-beba4d3fdae7",
   "metadata": {},
   "outputs": [],
   "source": []
  }
 ],
 "metadata": {
  "kernelspec": {
   "display_name": "Python 3 (ipykernel)",
   "language": "python",
   "name": "python3"
  },
  "language_info": {
   "codemirror_mode": {
    "name": "ipython",
    "version": 3
   },
   "file_extension": ".py",
   "mimetype": "text/x-python",
   "name": "python",
   "nbconvert_exporter": "python",
   "pygments_lexer": "ipython3",
   "version": "3.12.3"
  }
 },
 "nbformat": 4,
 "nbformat_minor": 5
}
